{
 "cells": [
  {
   "cell_type": "code",
   "execution_count": 1,
   "metadata": {},
   "outputs": [],
   "source": [
    "import numpy as np\n",
    "from sklearn import preprocessing, neighbors\n",
    "from sklearn.model_selection import train_test_split\n",
    "from sklearn.neighbors import KNeighborsClassifier\n",
    "from sklearn.model_selection import cross_validate\n",
    "import pandas as pd\n",
    "from sklearn.model_selection import cross_val_score\n",
    "import matplotlib.pyplot as plt\n",
    "%matplotlib inline"
   ]
  },
  {
   "cell_type": "code",
   "execution_count": 2,
   "metadata": {},
   "outputs": [],
   "source": [
    "#lire les données depuis le fichier data.csv\n",
    "df_brut = pd.read_csv('data.csv')\n",
    "#Filtrer les données pour en garder que les classes S et D\n",
    "\n",
    "df = df_brut[(df_brut['Phase'] == \"'D'\") | (df_brut['Phase'] == \"'S'\")] \n",
    "\n",
    "#spécifier le x(features) et le y (réponse)\n",
    "X = np.array(df.drop(['Phase'], 1))\n",
    "y = np.array(df['Phase'])"
   ]
  },
  {
   "cell_type": "code",
   "execution_count": 3,
   "metadata": {},
   "outputs": [
    {
     "name": "stdout",
     "output_type": "stream",
     "text": [
      "[0.81243414 0.7042699  0.74314346]\n"
     ]
    }
   ],
   "source": [
    "# 10-fold cross-validation avec K=5 pour KNN (valeur par defaut)\n",
    "knn = KNeighborsClassifier()\n",
    "scores = cross_val_score(knn, X, y, cv=3, scoring='accuracy')\n",
    "print(scores)"
   ]
  },
  {
   "cell_type": "code",
   "execution_count": 4,
   "metadata": {},
   "outputs": [
    {
     "name": "stdout",
     "output_type": "stream",
     "text": [
      "0.7532825003195772\n"
     ]
    }
   ],
   "source": [
    "#Afficher la moyenne\n",
    "print(scores.mean())"
   ]
  },
  {
   "cell_type": "code",
   "execution_count": 5,
   "metadata": {},
   "outputs": [],
   "source": [
    "# chercher la valeur optimale pour k(le nombre de voisins)\n",
    "k_range = list(range(1, 121))\n",
    "k_scores = []\n",
    "for k in k_range:\n",
    "    knn = KNeighborsClassifier(n_neighbors=k)\n",
    "    scores = cross_val_score(knn, X, y, cv=10, scoring='accuracy')\n",
    "    k_scores.append(scores.mean())"
   ]
  },
  {
   "cell_type": "code",
   "execution_count": 6,
   "metadata": {},
   "outputs": [
    {
     "data": {
      "text/plain": [
       "Text(0, 0.5, 'score pour cross_validation')"
      ]
     },
     "execution_count": 6,
     "metadata": {},
     "output_type": "execute_result"
    },
    {
     "data": {
      "image/png": "[encoded data removed]",
      "text/plain": [
       "<Figure size 432x288 with 1 Axes>"
      ]
     },
     "metadata": {
      "needs_background": "light"
     },
     "output_type": "display_data"
    }
   ],
   "source": [
    "# afficher \n",
    "plt.plot(k_range, k_scores)\n",
    "plt.xlabel('Valeur de K pour KNN')\n",
    "plt.ylabel('score pour cross_validation')"
   ]
  },
  {
   "cell_type": "code",
   "execution_count": 7,
   "metadata": {},
   "outputs": [],
   "source": [
    "from sklearn.model_selection import GridSearchCV"
   ]
  },
  {
   "cell_type": "code",
   "execution_count": 8,
   "metadata": {},
   "outputs": [
    {
     "name": "stdout",
     "output_type": "stream",
     "text": [
      "[1, 2, 3, 4, 5, 6, 7, 8, 9, 10, 11, 12, 13, 14, 15, 16, 17, 18, 19, 20, 21, 22, 23, 24, 25, 26, 27, 28, 29, 30]\n"
     ]
    }
   ],
   "source": [
    "# definir les valeurs du parametre k sur lesquels on cherche\n",
    "k_range = list(range(1, 31))\n",
    "print(k_range)"
   ]
  },
  {
   "cell_type": "code",
   "execution_count": 9,
   "metadata": {},
   "outputs": [
    {
     "name": "stdout",
     "output_type": "stream",
     "text": [
      "{'n_neighbors': [1, 2, 3, 4, 5, 6, 7, 8, 9, 10, 11, 12, 13, 14, 15, 16, 17, 18, 19, 20, 21, 22, 23, 24, 25, 26, 27, 28, 29, 30]}\n"
     ]
    }
   ],
   "source": [
    "# créer une grille de parametres\n",
    "param_grid = dict(n_neighbors=k_range)\n",
    "print(param_grid)"
   ]
  },
  {
   "cell_type": "code",
   "execution_count": 10,
   "metadata": {},
   "outputs": [],
   "source": [
    "# instancier GridSearch\n",
    "grid = GridSearchCV(knn, param_grid, cv=10, scoring='accuracy', return_train_score=False, n_jobs = -1)"
   ]
  },
  {
   "cell_type": "code",
   "execution_count": 11,
   "metadata": {},
   "outputs": [
    {
     "data": {
      "text/plain": [
       "GridSearchCV(cv=10, error_score='raise-deprecating',\n",
       "             estimator=KNeighborsClassifier(algorithm='auto', leaf_size=30,\n",
       "                                            metric='minkowski',\n",
       "                                            metric_params=None, n_jobs=None,\n",
       "                                            n_neighbors=120, p=2,\n",
       "                                            weights='uniform'),\n",
       "             iid='warn', n_jobs=-1,\n",
       "             param_grid={'n_neighbors': [1, 2, 3, 4, 5, 6, 7, 8, 9, 10, 11, 12,\n",
       "                                         13, 14, 15, 16, 17, 18, 19, 20, 21, 22,\n",
       "                                         23, 24, 25, 26, 27, 28, 29, 30]},\n",
       "             pre_dispatch='2*n_jobs', refit=True, return_train_score=False,\n",
       "             scoring='accuracy', verbose=0)"
      ]
     },
     "execution_count": 11,
     "metadata": {},
     "output_type": "execute_result"
    }
   ],
   "source": [
    "# passer les données au gridSearch\n",
    "grid.fit(X, y)"
   ]
  },
  {
   "cell_type": "code",
   "execution_count": 12,
   "metadata": {},
   "outputs": [
    {
     "data": {
      "text/html": [
       "<div>\n",
       "<style scoped>\n",
       "    .dataframe tbody tr th:only-of-type {\n",
       "        vertical-align: middle;\n",
       "    }\n",
       "\n",
       "    .dataframe tbody tr th {\n",
       "        vertical-align: top;\n",
       "    }\n",
       "\n",
       "    .dataframe thead th {\n",
       "        text-align: right;\n",
       "    }\n",
       "</style>\n",
       "<table border=\"1\" class=\"dataframe\">\n",
       "  <thead>\n",
       "    <tr style=\"text-align: right;\">\n",
       "      <th></th>\n",
       "      <th>mean_test_score</th>\n",
       "      <th>std_test_score</th>\n",
       "      <th>params</th>\n",
       "    </tr>\n",
       "  </thead>\n",
       "  <tbody>\n",
       "    <tr>\n",
       "      <td>0</td>\n",
       "      <td>0.759620</td>\n",
       "      <td>0.052793</td>\n",
       "      <td>{'n_neighbors': 1}</td>\n",
       "    </tr>\n",
       "    <tr>\n",
       "      <td>1</td>\n",
       "      <td>0.758918</td>\n",
       "      <td>0.051167</td>\n",
       "      <td>{'n_neighbors': 2}</td>\n",
       "    </tr>\n",
       "    <tr>\n",
       "      <td>2</td>\n",
       "      <td>0.778422</td>\n",
       "      <td>0.055885</td>\n",
       "      <td>{'n_neighbors': 3}</td>\n",
       "    </tr>\n",
       "    <tr>\n",
       "      <td>3</td>\n",
       "      <td>0.778246</td>\n",
       "      <td>0.056920</td>\n",
       "      <td>{'n_neighbors': 4}</td>\n",
       "    </tr>\n",
       "    <tr>\n",
       "      <td>4</td>\n",
       "      <td>0.783518</td>\n",
       "      <td>0.050853</td>\n",
       "      <td>{'n_neighbors': 5}</td>\n",
       "    </tr>\n",
       "    <tr>\n",
       "      <td>5</td>\n",
       "      <td>0.785099</td>\n",
       "      <td>0.054742</td>\n",
       "      <td>{'n_neighbors': 6}</td>\n",
       "    </tr>\n",
       "    <tr>\n",
       "      <td>6</td>\n",
       "      <td>0.784396</td>\n",
       "      <td>0.051713</td>\n",
       "      <td>{'n_neighbors': 7}</td>\n",
       "    </tr>\n",
       "    <tr>\n",
       "      <td>7</td>\n",
       "      <td>0.785626</td>\n",
       "      <td>0.055071</td>\n",
       "      <td>{'n_neighbors': 8}</td>\n",
       "    </tr>\n",
       "    <tr>\n",
       "      <td>8</td>\n",
       "      <td>0.787911</td>\n",
       "      <td>0.052846</td>\n",
       "      <td>{'n_neighbors': 9}</td>\n",
       "    </tr>\n",
       "    <tr>\n",
       "      <td>9</td>\n",
       "      <td>0.783869</td>\n",
       "      <td>0.055368</td>\n",
       "      <td>{'n_neighbors': 10}</td>\n",
       "    </tr>\n",
       "    <tr>\n",
       "      <td>10</td>\n",
       "      <td>0.787208</td>\n",
       "      <td>0.053622</td>\n",
       "      <td>{'n_neighbors': 11}</td>\n",
       "    </tr>\n",
       "    <tr>\n",
       "      <td>11</td>\n",
       "      <td>0.786154</td>\n",
       "      <td>0.056588</td>\n",
       "      <td>{'n_neighbors': 12}</td>\n",
       "    </tr>\n",
       "    <tr>\n",
       "      <td>12</td>\n",
       "      <td>0.787032</td>\n",
       "      <td>0.052144</td>\n",
       "      <td>{'n_neighbors': 13}</td>\n",
       "    </tr>\n",
       "    <tr>\n",
       "      <td>13</td>\n",
       "      <td>0.786154</td>\n",
       "      <td>0.055438</td>\n",
       "      <td>{'n_neighbors': 14}</td>\n",
       "    </tr>\n",
       "    <tr>\n",
       "      <td>14</td>\n",
       "      <td>0.788438</td>\n",
       "      <td>0.054610</td>\n",
       "      <td>{'n_neighbors': 15}</td>\n",
       "    </tr>\n",
       "    <tr>\n",
       "      <td>15</td>\n",
       "      <td>0.789844</td>\n",
       "      <td>0.057273</td>\n",
       "      <td>{'n_neighbors': 16}</td>\n",
       "    </tr>\n",
       "    <tr>\n",
       "      <td>16</td>\n",
       "      <td>0.789668</td>\n",
       "      <td>0.055512</td>\n",
       "      <td>{'n_neighbors': 17}</td>\n",
       "    </tr>\n",
       "    <tr>\n",
       "      <td>17</td>\n",
       "      <td>0.790195</td>\n",
       "      <td>0.059501</td>\n",
       "      <td>{'n_neighbors': 18}</td>\n",
       "    </tr>\n",
       "    <tr>\n",
       "      <td>18</td>\n",
       "      <td>0.790019</td>\n",
       "      <td>0.055585</td>\n",
       "      <td>{'n_neighbors': 19}</td>\n",
       "    </tr>\n",
       "    <tr>\n",
       "      <td>19</td>\n",
       "      <td>0.791074</td>\n",
       "      <td>0.056152</td>\n",
       "      <td>{'n_neighbors': 20}</td>\n",
       "    </tr>\n",
       "    <tr>\n",
       "      <td>20</td>\n",
       "      <td>0.793007</td>\n",
       "      <td>0.054493</td>\n",
       "      <td>{'n_neighbors': 21}</td>\n",
       "    </tr>\n",
       "    <tr>\n",
       "      <td>21</td>\n",
       "      <td>0.792479</td>\n",
       "      <td>0.057042</td>\n",
       "      <td>{'n_neighbors': 22}</td>\n",
       "    </tr>\n",
       "    <tr>\n",
       "      <td>22</td>\n",
       "      <td>0.793709</td>\n",
       "      <td>0.057465</td>\n",
       "      <td>{'n_neighbors': 23}</td>\n",
       "    </tr>\n",
       "    <tr>\n",
       "      <td>23</td>\n",
       "      <td>0.791952</td>\n",
       "      <td>0.056872</td>\n",
       "      <td>{'n_neighbors': 24}</td>\n",
       "    </tr>\n",
       "    <tr>\n",
       "      <td>24</td>\n",
       "      <td>0.792655</td>\n",
       "      <td>0.057513</td>\n",
       "      <td>{'n_neighbors': 25}</td>\n",
       "    </tr>\n",
       "    <tr>\n",
       "      <td>25</td>\n",
       "      <td>0.792831</td>\n",
       "      <td>0.060269</td>\n",
       "      <td>{'n_neighbors': 26}</td>\n",
       "    </tr>\n",
       "    <tr>\n",
       "      <td>26</td>\n",
       "      <td>0.792304</td>\n",
       "      <td>0.060225</td>\n",
       "      <td>{'n_neighbors': 27}</td>\n",
       "    </tr>\n",
       "    <tr>\n",
       "      <td>27</td>\n",
       "      <td>0.790722</td>\n",
       "      <td>0.059434</td>\n",
       "      <td>{'n_neighbors': 28}</td>\n",
       "    </tr>\n",
       "    <tr>\n",
       "      <td>28</td>\n",
       "      <td>0.791952</td>\n",
       "      <td>0.059437</td>\n",
       "      <td>{'n_neighbors': 29}</td>\n",
       "    </tr>\n",
       "    <tr>\n",
       "      <td>29</td>\n",
       "      <td>0.791074</td>\n",
       "      <td>0.059178</td>\n",
       "      <td>{'n_neighbors': 30}</td>\n",
       "    </tr>\n",
       "  </tbody>\n",
       "</table>\n",
       "</div>"
      ],
      "text/plain": [
       "    mean_test_score  std_test_score               params\n",
       "0          0.759620        0.052793   {'n_neighbors': 1}\n",
       "1          0.758918        0.051167   {'n_neighbors': 2}\n",
       "2          0.778422        0.055885   {'n_neighbors': 3}\n",
       "3          0.778246        0.056920   {'n_neighbors': 4}\n",
       "4          0.783518        0.050853   {'n_neighbors': 5}\n",
       "5          0.785099        0.054742   {'n_neighbors': 6}\n",
       "6          0.784396        0.051713   {'n_neighbors': 7}\n",
       "7          0.785626        0.055071   {'n_neighbors': 8}\n",
       "8          0.787911        0.052846   {'n_neighbors': 9}\n",
       "9          0.783869        0.055368  {'n_neighbors': 10}\n",
       "10         0.787208        0.053622  {'n_neighbors': 11}\n",
       "11         0.786154        0.056588  {'n_neighbors': 12}\n",
       "12         0.787032        0.052144  {'n_neighbors': 13}\n",
       "13         0.786154        0.055438  {'n_neighbors': 14}\n",
       "14         0.788438        0.054610  {'n_neighbors': 15}\n",
       "15         0.789844        0.057273  {'n_neighbors': 16}\n",
       "16         0.789668        0.055512  {'n_neighbors': 17}\n",
       "17         0.790195        0.059501  {'n_neighbors': 18}\n",
       "18         0.790019        0.055585  {'n_neighbors': 19}\n",
       "19         0.791074        0.056152  {'n_neighbors': 20}\n",
       "20         0.793007        0.054493  {'n_neighbors': 21}\n",
       "21         0.792479        0.057042  {'n_neighbors': 22}\n",
       "22         0.793709        0.057465  {'n_neighbors': 23}\n",
       "23         0.791952        0.056872  {'n_neighbors': 24}\n",
       "24         0.792655        0.057513  {'n_neighbors': 25}\n",
       "25         0.792831        0.060269  {'n_neighbors': 26}\n",
       "26         0.792304        0.060225  {'n_neighbors': 27}\n",
       "27         0.790722        0.059434  {'n_neighbors': 28}\n",
       "28         0.791952        0.059437  {'n_neighbors': 29}\n",
       "29         0.791074        0.059178  {'n_neighbors': 30}"
      ]
     },
     "execution_count": 12,
     "metadata": {},
     "output_type": "execute_result"
    }
   ],
   "source": [
    "# voir les resultats dans un tableau pandas\n",
    "import pandas as pd\n",
    "pd.DataFrame(grid.cv_results_)[['mean_test_score', 'std_test_score', 'params']]"
   ]
  },
  {
   "cell_type": "code",
   "execution_count": 13,
   "metadata": {},
   "outputs": [
    {
     "name": "stdout",
     "output_type": "stream",
     "text": [
      "[0.75962045 0.75891759 0.77842207 0.77824635 0.78351784 0.78509928\n",
      " 0.78439642 0.78562643 0.78791074 0.78386927 0.78720787 0.78615358\n",
      " 0.78703216 0.78615358 0.78843788 0.78984361 0.7896679  0.79019504\n",
      " 0.79001933 0.79107363 0.7930065  0.79247935 0.79370937 0.79195221\n",
      " 0.79265507 0.79283079 0.79230364 0.79072219 0.79195221 0.79107363]\n"
     ]
    }
   ],
   "source": [
    "# afficher l'ensemble la moyenne du score pourchaque ensemble de parametre\n",
    "grid_mean_scores = grid.cv_results_['mean_test_score']\n",
    "print(grid_mean_scores)"
   ]
  },
  {
   "cell_type": "code",
   "execution_count": 14,
   "metadata": {},
   "outputs": [
    {
     "data": {
      "text/plain": [
       "Text(0, 0.5, 'Cross-Validated Accuracy')"
      ]
     },
     "execution_count": 14,
     "metadata": {},
     "output_type": "execute_result"
    },
    {
     "data": {
      "image/png": "[encoded data removed]",
      "text/plain": [
       "<Figure size 432x288 with 1 Axes>"
      ]
     },
     "metadata": {
      "needs_background": "light"
     },
     "output_type": "display_data"
    }
   ],
   "source": [
    "# les re\n",
    "plt.plot(k_range, grid_mean_scores)\n",
    "plt.xlabel('Value of K for KNN')\n",
    "plt.ylabel('Cross-Validated Accuracy')"
   ]
  },
  {
   "cell_type": "code",
   "execution_count": 15,
   "metadata": {},
   "outputs": [
    {
     "name": "stdout",
     "output_type": "stream",
     "text": [
      "0.7937093656650852\n",
      "{'n_neighbors': 23}\n",
      "KNeighborsClassifier(algorithm='auto', leaf_size=30, metric='minkowski',\n",
      "                     metric_params=None, n_jobs=None, n_neighbors=23, p=2,\n",
      "                     weights='uniform')\n"
     ]
    }
   ],
   "source": [
    "# examine the best model\n",
    "print(grid.best_score_)\n",
    "print(grid.best_params_)\n",
    "print(grid.best_estimator_)"
   ]
  },
  {
   "cell_type": "code",
   "execution_count": null,
   "metadata": {},
   "outputs": [],
   "source": []
  },
  {
   "cell_type": "code",
   "execution_count": 25,
   "metadata": {},
   "outputs": [],
   "source": [
    "# definir les parametres sur lesquels nous allons faire la recherche\n",
    "k_range = list(range(1, 31))\n",
    "weight_options = ['uniform', 'distance']\n",
    "algorithme = ['auto', 'ball_tree', 'kd_tree', 'brute']\n",
    "metric = ['euclidean', 'manhattan']\n",
    "p =[1,2]\n",
    "X_train, X_test, y_train, y_test = train_test_split(X, y, test_size=0.2, random_state=2)\n"
   ]
  },
  {
   "cell_type": "code",
   "execution_count": 26,
   "metadata": {},
   "outputs": [
    {
     "name": "stdout",
     "output_type": "stream",
     "text": [
      "{'n_neighbors': [1, 2, 3, 4, 5, 6, 7, 8, 9, 10, 11, 12, 13, 14, 15, 16, 17, 18, 19, 20, 21, 22, 23, 24, 25, 26, 27, 28, 29, 30], 'weights': ['uniform', 'distance'], 'algorithm': ['auto', 'ball_tree', 'kd_tree', 'brute'], 'p': [1, 2], 'metric': ['euclidean', 'manhattan']}\n"
     ]
    }
   ],
   "source": [
    "# creer une grille de parametres\n",
    "param_grid = dict(n_neighbors=k_range, weights=weight_options, algorithm=algorithme, p=p, metric=metric)\n",
    "print(param_grid)"
   ]
  },
  {
   "cell_type": "code",
   "execution_count": 27,
   "metadata": {},
   "outputs": [
    {
     "data": {
      "text/plain": [
       "GridSearchCV(cv=10, error_score='raise-deprecating',\n",
       "             estimator=KNeighborsClassifier(algorithm='auto', leaf_size=30,\n",
       "                                            metric='minkowski',\n",
       "                                            metric_params=None, n_jobs=None,\n",
       "                                            n_neighbors=120, p=2,\n",
       "                                            weights='uniform'),\n",
       "             iid='warn', n_jobs=7,\n",
       "             param_grid={'algorithm': ['auto', 'ball_tree', 'kd_tree', 'brute'],\n",
       "                         'metric': ['euclidean', 'manhattan'],\n",
       "                         'n_neighbors': [1, 2, 3, 4, 5, 6, 7, 8, 9, 10, 11, 12,\n",
       "                                         13, 14, 15, 16, 17, 18, 19, 20, 21, 22,\n",
       "                                         23, 24, 25, 26, 27, 28, 29, 30],\n",
       "                         'p': [1, 2], 'weights': ['uniform', 'distance']},\n",
       "             pre_dispatch='2*n_jobs', refit=True, return_train_score=False,\n",
       "             scoring='accuracy', verbose=0)"
      ]
     },
     "execution_count": 27,
     "metadata": {},
     "output_type": "execute_result"
    }
   ],
   "source": [
    "#utiliser miltiprocessing pour paralléliser le traitement \n",
    "import multiprocessing\n",
    "n_jobs = multiprocessing.cpu_count()-1\n",
    "# instantier et passer les donnée au gridsearch\n",
    "grid = GridSearchCV(knn, param_grid, cv=10, scoring='accuracy', return_train_score=False, n_jobs=n_jobs)\n",
    "grid.fit(X_train, y_train)"
   ]
  },
  {
   "cell_type": "code",
   "execution_count": 28,
   "metadata": {},
   "outputs": [],
   "source": [
    "#faire une prédiction sur le x_test\n",
    "predictions = grid.predict(X_test)"
   ]
  },
  {
   "cell_type": "code",
   "execution_count": 29,
   "metadata": {
    "scrolled": true
   },
   "outputs": [
    {
     "data": {
      "text/html": [
       "<div>\n",
       "<style scoped>\n",
       "    .dataframe tbody tr th:only-of-type {\n",
       "        vertical-align: middle;\n",
       "    }\n",
       "\n",
       "    .dataframe tbody tr th {\n",
       "        vertical-align: top;\n",
       "    }\n",
       "\n",
       "    .dataframe thead th {\n",
       "        text-align: right;\n",
       "    }\n",
       "</style>\n",
       "<table border=\"1\" class=\"dataframe\">\n",
       "  <thead>\n",
       "    <tr style=\"text-align: right;\">\n",
       "      <th></th>\n",
       "      <th>mean_test_score</th>\n",
       "      <th>std_test_score</th>\n",
       "      <th>params</th>\n",
       "    </tr>\n",
       "  </thead>\n",
       "  <tbody>\n",
       "    <tr>\n",
       "      <td>0</td>\n",
       "      <td>0.876318</td>\n",
       "      <td>0.018074</td>\n",
       "      <td>{'algorithm': 'auto', 'metric': 'euclidean', '...</td>\n",
       "    </tr>\n",
       "    <tr>\n",
       "      <td>1</td>\n",
       "      <td>0.876318</td>\n",
       "      <td>0.018074</td>\n",
       "      <td>{'algorithm': 'auto', 'metric': 'euclidean', '...</td>\n",
       "    </tr>\n",
       "    <tr>\n",
       "      <td>2</td>\n",
       "      <td>0.876318</td>\n",
       "      <td>0.018074</td>\n",
       "      <td>{'algorithm': 'auto', 'metric': 'euclidean', '...</td>\n",
       "    </tr>\n",
       "    <tr>\n",
       "      <td>3</td>\n",
       "      <td>0.876318</td>\n",
       "      <td>0.018074</td>\n",
       "      <td>{'algorithm': 'auto', 'metric': 'euclidean', '...</td>\n",
       "    </tr>\n",
       "    <tr>\n",
       "      <td>4</td>\n",
       "      <td>0.849517</td>\n",
       "      <td>0.021855</td>\n",
       "      <td>{'algorithm': 'auto', 'metric': 'euclidean', '...</td>\n",
       "    </tr>\n",
       "    <tr>\n",
       "      <td>...</td>\n",
       "      <td>...</td>\n",
       "      <td>...</td>\n",
       "      <td>...</td>\n",
       "    </tr>\n",
       "    <tr>\n",
       "      <td>955</td>\n",
       "      <td>0.861380</td>\n",
       "      <td>0.017168</td>\n",
       "      <td>{'algorithm': 'brute', 'metric': 'manhattan', ...</td>\n",
       "    </tr>\n",
       "    <tr>\n",
       "      <td>956</td>\n",
       "      <td>0.842707</td>\n",
       "      <td>0.017387</td>\n",
       "      <td>{'algorithm': 'brute', 'metric': 'manhattan', ...</td>\n",
       "    </tr>\n",
       "    <tr>\n",
       "      <td>957</td>\n",
       "      <td>0.861160</td>\n",
       "      <td>0.019224</td>\n",
       "      <td>{'algorithm': 'brute', 'metric': 'manhattan', ...</td>\n",
       "    </tr>\n",
       "    <tr>\n",
       "      <td>958</td>\n",
       "      <td>0.842707</td>\n",
       "      <td>0.017387</td>\n",
       "      <td>{'algorithm': 'brute', 'metric': 'manhattan', ...</td>\n",
       "    </tr>\n",
       "    <tr>\n",
       "      <td>959</td>\n",
       "      <td>0.861160</td>\n",
       "      <td>0.019224</td>\n",
       "      <td>{'algorithm': 'brute', 'metric': 'manhattan', ...</td>\n",
       "    </tr>\n",
       "  </tbody>\n",
       "</table>\n",
       "<p>960 rows × 3 columns</p>\n",
       "</div>"
      ],
      "text/plain": [
       "     mean_test_score  std_test_score  \\\n",
       "0           0.876318        0.018074   \n",
       "1           0.876318        0.018074   \n",
       "2           0.876318        0.018074   \n",
       "3           0.876318        0.018074   \n",
       "4           0.849517        0.021855   \n",
       "..               ...             ...   \n",
       "955         0.861380        0.017168   \n",
       "956         0.842707        0.017387   \n",
       "957         0.861160        0.019224   \n",
       "958         0.842707        0.017387   \n",
       "959         0.861160        0.019224   \n",
       "\n",
       "                                                params  \n",
       "0    {'algorithm': 'auto', 'metric': 'euclidean', '...  \n",
       "1    {'algorithm': 'auto', 'metric': 'euclidean', '...  \n",
       "2    {'algorithm': 'auto', 'metric': 'euclidean', '...  \n",
       "3    {'algorithm': 'auto', 'metric': 'euclidean', '...  \n",
       "4    {'algorithm': 'auto', 'metric': 'euclidean', '...  \n",
       "..                                                 ...  \n",
       "955  {'algorithm': 'brute', 'metric': 'manhattan', ...  \n",
       "956  {'algorithm': 'brute', 'metric': 'manhattan', ...  \n",
       "957  {'algorithm': 'brute', 'metric': 'manhattan', ...  \n",
       "958  {'algorithm': 'brute', 'metric': 'manhattan', ...  \n",
       "959  {'algorithm': 'brute', 'metric': 'manhattan', ...  \n",
       "\n",
       "[960 rows x 3 columns]"
      ]
     },
     "execution_count": 29,
     "metadata": {},
     "output_type": "execute_result"
    }
   ],
   "source": [
    "# voir les résultas\n",
    "pd.DataFrame(grid.cv_results_)[['mean_test_score', 'std_test_score', 'params']]"
   ]
  },
  {
   "cell_type": "code",
   "execution_count": 30,
   "metadata": {},
   "outputs": [
    {
     "name": "stdout",
     "output_type": "stream",
     "text": [
      "{'algorithm': 'auto', 'metric': 'manhattan', 'n_neighbors': 4, 'p': 1, 'weights': 'distance'}\n"
     ]
    }
   ],
   "source": [
    "# examiner le meilleur model (ensemble de parametres)\n",
    "print(grid.best_params_)"
   ]
  },
  {
   "cell_type": "code",
   "execution_count": 31,
   "metadata": {},
   "outputs": [
    {
     "name": "stdout",
     "output_type": "stream",
     "text": [
      "0.9086918349429324\n"
     ]
    }
   ],
   "source": [
    "#calculer le score sur l'ensemble du test\n",
    "clf = neighbors.KNeighborsClassifier(algorithm='auto', metric='manhattan', n_neighbors=4, weights='distance', p=1)\n",
    "clf.fit(X_train, y_train)\n",
    "\n",
    "accuracy = clf.score(X_test, y_test)\n",
    "print(accuracy)"
   ]
  },
  {
   "cell_type": "code",
   "execution_count": 32,
   "metadata": {},
   "outputs": [
    {
     "name": "stdout",
     "output_type": "stream",
     "text": [
      "[[518  45]\n",
      " [ 59 517]]\n",
      "              precision    recall  f1-score   support\n",
      "\n",
      "         'D'       0.90      0.92      0.91       563\n",
      "         'S'       0.92      0.90      0.91       576\n",
      "\n",
      "    accuracy                           0.91      1139\n",
      "   macro avg       0.91      0.91      0.91      1139\n",
      "weighted avg       0.91      0.91      0.91      1139\n",
      "\n"
     ]
    }
   ],
   "source": [
    "#afficher la matrice de confusion\n",
    "from sklearn.metrics import classification_report, confusion_matrix\n",
    "print(confusion_matrix(y_test, predictions))\n",
    "print(classification_report(y_test, predictions))"
   ]
  },
  {
   "cell_type": "code",
   "execution_count": null,
   "metadata": {},
   "outputs": [],
   "source": []
  },
  {
   "cell_type": "code",
   "execution_count": null,
   "metadata": {},
   "outputs": [],
   "source": []
  },
  {
   "cell_type": "code",
   "execution_count": null,
   "metadata": {},
   "outputs": [],
   "source": []
  },
  {
   "cell_type": "code",
   "execution_count": null,
   "metadata": {},
   "outputs": [],
   "source": []
  },
  {
   "cell_type": "code",
   "execution_count": null,
   "metadata": {},
   "outputs": [],
   "source": []
  },
  {
   "cell_type": "code",
   "execution_count": null,
   "metadata": {},
   "outputs": [],
   "source": []
  },
  {
   "cell_type": "code",
   "execution_count": null,
   "metadata": {},
   "outputs": [],
   "source": []
  },
  {
   "cell_type": "code",
   "execution_count": null,
   "metadata": {},
   "outputs": [],
   "source": []
  }
 ],
 "metadata": {
  "kernelspec": {
   "display_name": "Python 3",
   "language": "python",
   "name": "python3"
  },
  "language_info": {
   "codemirror_mode": {
    "name": "ipython",
    "version": 3
   },
   "file_extension": ".py",
   "mimetype": "text/x-python",
   "name": "python",
   "nbconvert_exporter": "python",
   "pygments_lexer": "ipython3",
   "version": "3.7.4"
  }
 },
 "nbformat": 4,
 "nbformat_minor": 2
}
